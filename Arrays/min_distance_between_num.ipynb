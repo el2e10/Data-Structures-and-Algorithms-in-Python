{
 "cells": [
  {
   "cell_type": "code",
   "execution_count": 17,
   "metadata": {},
   "outputs": [],
   "source": [
    "import math"
   ]
  },
  {
   "cell_type": "markdown",
   "metadata": {},
   "source": [
    "You are given an array arr. Find minimum index based distance between two elements of the array, x and y."
   ]
  },
  {
   "cell_type": "code",
   "execution_count": 21,
   "metadata": {},
   "outputs": [
    {
     "data": {
      "text/plain": [
       "-1"
      ]
     },
     "execution_count": 21,
     "metadata": {},
     "output_type": "execute_result"
    }
   ],
   "source": [
    "def min_distance(arr, x, y):\n",
    "    positions_x = [index for index, value in enumerate(arr) if value == x]    \n",
    "    positions_y = [index for index, value in enumerate(arr) if value == y]    \n",
    "    if(not all([len(positions_x), len(positions_y)])):\n",
    "        return -1\n",
    "\n",
    "    min = math.inf\n",
    "    for i in positions_x:\n",
    "        for j in positions_y:\n",
    "            if(abs(i - j) < min):\n",
    "                min = abs(i-j)\n",
    "    return min\n",
    "\n",
    "a = [86,39,90,67,84,66,62]\n",
    "min_distance(a, 42, 12)\n",
    "\n",
    "# Metrics\n",
    "# Time complexity = O(n^2)"
   ]
  },
  {
   "cell_type": "code",
   "execution_count": 47,
   "metadata": {},
   "outputs": [
    {
     "data": {
      "text/plain": [
       "-1"
      ]
     },
     "execution_count": 47,
     "metadata": {},
     "output_type": "execute_result"
    }
   ],
   "source": [
    "def min_distance(arr, x, y):\n",
    "\n",
    "    prev = None\n",
    "    min_dist = math.inf    \n",
    "\n",
    "    if(x not in arr or y not in arr):\n",
    "        return -1\n",
    "\n",
    "    for index, value in enumerate(arr):\n",
    "        if(value in [x, y]):\n",
    "            prev = index\n",
    "            break\n",
    "\n",
    "    for index, value in enumerate(arr[prev:]):\n",
    "        index = index + prev\n",
    "        if(value in [x, y]):\n",
    "            if(value != arr[prev]):\n",
    "                min_dist = min(min_dist, abs(prev-index))\n",
    "            prev = index\n",
    "    \n",
    "    return min_dist\n",
    "\n",
    "    \n",
    "\n",
    "a = [1,2,3,2]\n",
    "min_distance(a, 8, 2)\n",
    "\n",
    "# Metrics\n",
    "# Time complexity = O(n)"
   ]
  }
 ],
 "metadata": {
  "interpreter": {
   "hash": "ba8a2f979b76317ccf93e467e94d1dd25a4d448df8fe3a724a905e71adb08bc7"
  },
  "kernelspec": {
   "display_name": "Python 3.8.5 ('ds')",
   "language": "python",
   "name": "python3"
  },
  "language_info": {
   "codemirror_mode": {
    "name": "ipython",
    "version": 3
   },
   "file_extension": ".py",
   "mimetype": "text/x-python",
   "name": "python",
   "nbconvert_exporter": "python",
   "pygments_lexer": "ipython3",
   "version": "3.8.5"
  },
  "orig_nbformat": 4
 },
 "nbformat": 4,
 "nbformat_minor": 2
}

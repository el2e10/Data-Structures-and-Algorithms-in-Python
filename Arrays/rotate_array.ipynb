{
 "cells": [
  {
   "cell_type": "markdown",
   "metadata": {},
   "source": [
    "Given an unsorted array arr.Rotate the array to the left (counter-clockwise direction) by D steps, where D is a positive integer. "
   ]
  },
  {
   "cell_type": "code",
   "execution_count": 7,
   "metadata": {},
   "outputs": [
    {
     "name": "stdout",
     "output_type": "stream",
     "text": [
      "47\n"
     ]
    },
    {
     "data": {
      "text/plain": [
       "['25',\n",
       " '6',\n",
       " '20',\n",
       " '55',\n",
       " '69',\n",
       " '5',\n",
       " '50',\n",
       " '63',\n",
       " '61',\n",
       " '41',\n",
       " '87',\n",
       " '80',\n",
       " '2',\n",
       " '96',\n",
       " '77',\n",
       " '70',\n",
       " '12',\n",
       " '43',\n",
       " '31',\n",
       " '8',\n",
       " '64',\n",
       " '41',\n",
       " '68',\n",
       " '18',\n",
       " '95',\n",
       " '79',\n",
       " '52',\n",
       " '74',\n",
       " '1',\n",
       " '98',\n",
       " '3',\n",
       " '26',\n",
       " '3',\n",
       " '74',\n",
       " '32',\n",
       " '23',\n",
       " '79',\n",
       " '81',\n",
       " '37',\n",
       " '39',\n",
       " '21',\n",
       " '24',\n",
       " '18',\n",
       " '22',\n",
       " '71',\n",
       " '47',\n",
       " '44']"
      ]
     },
     "execution_count": 7,
     "metadata": {},
     "output_type": "execute_result"
    }
   ],
   "source": [
    "def rotate_array(arr, n):\n",
    "    for _ in range(n):\n",
    "        arr.append(arr.pop(0))\n",
    "\n",
    "    return arr\n",
    "\n",
    "arr = \"25 6 20 55 69 5 50 63 61 41 87 80 2 96 77 70 12 43 31 8 64 41 68 18 95 79 52 74 1 98 3 26 3 74 32 23 79 81 37 39 21 24 18 22 71 47 44\"\n",
    "arr = arr.split(\" \")\n",
    "print(len(arr))\n",
    "rotate_array(arr, 47)"
   ]
  }
 ],
 "metadata": {
  "interpreter": {
   "hash": "ba8a2f979b76317ccf93e467e94d1dd25a4d448df8fe3a724a905e71adb08bc7"
  },
  "kernelspec": {
   "display_name": "Python 3.8.5 ('ds')",
   "language": "python",
   "name": "python3"
  },
  "language_info": {
   "codemirror_mode": {
    "name": "ipython",
    "version": 3
   },
   "file_extension": ".py",
   "mimetype": "text/x-python",
   "name": "python",
   "nbconvert_exporter": "python",
   "pygments_lexer": "ipython3",
   "version": "3.8.5"
  },
  "orig_nbformat": 4
 },
 "nbformat": 4,
 "nbformat_minor": 2
}

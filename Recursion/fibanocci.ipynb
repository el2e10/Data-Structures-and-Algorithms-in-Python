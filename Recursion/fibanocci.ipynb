{
 "cells": [
  {
   "cell_type": "code",
   "execution_count": 24,
   "metadata": {},
   "outputs": [
    {
     "name": "stdout",
     "output_type": "stream",
     "text": [
      "0\n",
      "1\n",
      "1\n",
      "2\n",
      "3\n"
     ]
    }
   ],
   "source": [
    "#Decorator to check if a negatvie number was given\n",
    "def parameter_checker(func):\n",
    "    def inner(num):\n",
    "        if(num < 0):\n",
    "            return \"Only positive numbers\"\n",
    "        else:\n",
    "            return func(num)\n",
    "    return inner\n",
    "\n",
    "# Actual fibanocci function\n",
    "@parameter_checker\n",
    "def fibanocci(num):\n",
    "    if(num <= 1):\n",
    "        return num\n",
    "\n",
    "    return fibanocci(num - 1) + fibanocci(num - 2)\n",
    "\n",
    "for i in range(5):\n",
    "    print(fibanocci(i))"
   ]
  },
  {
   "cell_type": "code",
   "execution_count": null,
   "metadata": {},
   "outputs": [],
   "source": []
  }
 ],
 "metadata": {
  "interpreter": {
   "hash": "ba8a2f979b76317ccf93e467e94d1dd25a4d448df8fe3a724a905e71adb08bc7"
  },
  "kernelspec": {
   "display_name": "Python 3.8.5 ('ds')",
   "language": "python",
   "name": "python3"
  },
  "language_info": {
   "codemirror_mode": {
    "name": "ipython",
    "version": 3
   },
   "file_extension": ".py",
   "mimetype": "text/x-python",
   "name": "python",
   "nbconvert_exporter": "python",
   "pygments_lexer": "ipython3",
   "version": "3.8.5"
  },
  "orig_nbformat": 4
 },
 "nbformat": 4,
 "nbformat_minor": 2
}

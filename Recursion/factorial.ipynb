{
 "cells": [
  {
   "cell_type": "code",
   "execution_count": 5,
   "metadata": {},
   "outputs": [],
   "source": [
    "import time\n",
    "from functools import lru_cache"
   ]
  },
  {
   "cell_type": "code",
   "execution_count": 7,
   "metadata": {},
   "outputs": [
    {
     "name": "stdout",
     "output_type": "stream",
     "text": [
      "The total time is 0.00011301040649414062\n"
     ]
    }
   ],
   "source": [
    "# Decorator to check if a negatvie number was given\n",
    "\n",
    "def parameter_checker(factorial_fun):\n",
    "    def inner(num):\n",
    "        if(num < 0):\n",
    "            return \"Only positive numbers\"\n",
    "        else:\n",
    "            return factorial_fun(num)\n",
    "    return inner\n",
    "\n",
    "\n",
    "# Actual factorial function\n",
    "@parameter_checker\n",
    "def factorial(num):\n",
    "    if(num <= 1):\n",
    "        return 1\n",
    "\n",
    "    else:\n",
    "        return num * factorial(num - 1)\n",
    "\n",
    "start_time = time.time()\n",
    "factorial(100)\n",
    "end_time = time.time()\n",
    "\n",
    "print(f\"The total time is {end_time - start_time}\")"
   ]
  },
  {
   "cell_type": "code",
   "execution_count": 6,
   "metadata": {},
   "outputs": [
    {
     "name": "stdout",
     "output_type": "stream",
     "text": [
      "The total time is 0.0002334117889404297\n"
     ]
    }
   ],
   "source": [
    "@lru_cache(maxsize=100)\n",
    "def factorial_cache(num):\n",
    "    if(num <= 1):\n",
    "        return num\n",
    "    \n",
    "    return num * factorial_cache(num-1)\n",
    "    \n",
    "\n",
    "start_time = time.time()\n",
    "factorial_cache(100)\n",
    "end_time = time.time()\n",
    "\n",
    "print(f\"The total time is {end_time - start_time}\")\n"
   ]
  }
 ],
 "metadata": {
  "interpreter": {
   "hash": "ba8a2f979b76317ccf93e467e94d1dd25a4d448df8fe3a724a905e71adb08bc7"
  },
  "kernelspec": {
   "display_name": "Python 3.8.5 ('ds')",
   "language": "python",
   "name": "python3"
  },
  "language_info": {
   "codemirror_mode": {
    "name": "ipython",
    "version": 3
   },
   "file_extension": ".py",
   "mimetype": "text/x-python",
   "name": "python",
   "nbconvert_exporter": "python",
   "pygments_lexer": "ipython3",
   "version": "3.8.5"
  },
  "orig_nbformat": 4
 },
 "nbformat": 4,
 "nbformat_minor": 2
}

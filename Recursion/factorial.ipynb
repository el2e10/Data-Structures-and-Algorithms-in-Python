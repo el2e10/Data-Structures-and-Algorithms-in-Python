{
 "cells": [
  {
   "cell_type": "code",
   "execution_count": 12,
   "metadata": {},
   "outputs": [
    {
     "data": {
      "text/plain": [
       "3628800"
      ]
     },
     "execution_count": 12,
     "metadata": {},
     "output_type": "execute_result"
    }
   ],
   "source": [
    "# Decorator to check if a negatvie number was given\n",
    "\n",
    "def parameter_checker(factorial_fun):\n",
    "    def inner(num):\n",
    "        if(num < 0):\n",
    "            return \"Only positive numbers\"\n",
    "        else:\n",
    "            return factorial_fun(num)\n",
    "    return inner\n",
    "\n",
    "\n",
    "# Actual factorial function\n",
    "@parameter_checker\n",
    "def factorial(num):\n",
    "    if(num <= 1):\n",
    "        return 1\n",
    "\n",
    "    else:\n",
    "        return num * factorial(num - 1)\n",
    "\n",
    "factorial(10)"
   ]
  }
 ],
 "metadata": {
  "interpreter": {
   "hash": "ba8a2f979b76317ccf93e467e94d1dd25a4d448df8fe3a724a905e71adb08bc7"
  },
  "kernelspec": {
   "display_name": "Python 3.8.5 ('ds')",
   "language": "python",
   "name": "python3"
  },
  "language_info": {
   "codemirror_mode": {
    "name": "ipython",
    "version": 3
   },
   "file_extension": ".py",
   "mimetype": "text/x-python",
   "name": "python",
   "nbconvert_exporter": "python",
   "pygments_lexer": "ipython3",
   "version": "3.8.5"
  },
  "orig_nbformat": 4
 },
 "nbformat": 4,
 "nbformat_minor": 2
}

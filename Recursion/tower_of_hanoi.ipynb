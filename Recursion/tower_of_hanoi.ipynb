{
 "cells": [
  {
   "cell_type": "code",
   "execution_count": 6,
   "metadata": {},
   "outputs": [
    {
     "name": "stdout",
     "output_type": "stream",
     "text": [
      "Move 1 -> 3\n",
      "Move 1 -> 2\n",
      "Move 3 -> 2\n",
      "Move 1 -> 3\n",
      "Move 2 -> 1\n",
      "Move 2 -> 3\n",
      "Move 1 -> 3\n",
      "Move 1 -> 2\n",
      "Move 3 -> 2\n",
      "Move 3 -> 1\n",
      "Move 2 -> 1\n",
      "Move 3 -> 2\n",
      "Move 1 -> 3\n",
      "Move 1 -> 2\n",
      "Move 3 -> 2\n",
      "Move 1 -> 3\n",
      "Move 2 -> 1\n",
      "Move 2 -> 3\n",
      "Move 1 -> 3\n",
      "Move 2 -> 1\n",
      "Move 3 -> 2\n",
      "Move 3 -> 1\n",
      "Move 2 -> 1\n",
      "Move 2 -> 3\n",
      "Move 1 -> 3\n",
      "Move 1 -> 2\n",
      "Move 3 -> 2\n",
      "Move 1 -> 3\n",
      "Move 2 -> 1\n",
      "Move 2 -> 3\n",
      "Move 1 -> 3\n"
     ]
    }
   ],
   "source": [
    "def move(n, src, inter, dest):\n",
    "    if(n >= 1):\n",
    "        move(n-1, src, dest, inter)\n",
    "        print(f\"Move {src} -> {dest}\")\n",
    "        move(n-1, inter, src, dest)\n",
    "\n",
    "\n",
    "move(5, 1, 2, 3)"
   ]
  }
 ],
 "metadata": {
  "interpreter": {
   "hash": "ba8a2f979b76317ccf93e467e94d1dd25a4d448df8fe3a724a905e71adb08bc7"
  },
  "kernelspec": {
   "display_name": "Python 3.8.5 ('ds')",
   "language": "python",
   "name": "python3"
  },
  "language_info": {
   "codemirror_mode": {
    "name": "ipython",
    "version": 3
   },
   "file_extension": ".py",
   "mimetype": "text/x-python",
   "name": "python",
   "nbconvert_exporter": "python",
   "pygments_lexer": "ipython3",
   "version": "3.8.5"
  },
  "orig_nbformat": 4
 },
 "nbformat": 4,
 "nbformat_minor": 2
}

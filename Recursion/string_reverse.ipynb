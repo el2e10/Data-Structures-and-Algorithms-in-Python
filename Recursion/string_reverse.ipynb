{
 "cells": [
  {
   "cell_type": "code",
   "execution_count": 4,
   "metadata": {},
   "outputs": [
    {
     "name": "stdout",
     "output_type": "stream",
     "text": [
      "elppa\n"
     ]
    }
   ],
   "source": [
    "def reverse_str(string):\n",
    "    if(not string):\n",
    "        return \"\" \n",
    "    else:\n",
    "        return reverse_str(string[1:]) + string[0]\n",
    "\n",
    "print(reverse_str(\"apple\"))\n",
    "    "
   ]
  },
  {
   "cell_type": "code",
   "execution_count": 6,
   "metadata": {},
   "outputs": [
    {
     "name": "stdout",
     "output_type": "stream",
     "text": [
      "elppa\n"
     ]
    }
   ],
   "source": [
    "def reverse_str_v2(string, start, stop):\n",
    "    if(start < stop):\n",
    "        string[start], string[stop - 1] = string[stop - 1], string[start]\n",
    "        return reverse_str_v2(string, start+1, stop-1)\n",
    "\n",
    "string = list(\"apple\")\n",
    "reverse_str_v2(string, 0, len(string))\n",
    "print(\"\".join(string))"
   ]
  }
 ],
 "metadata": {
  "interpreter": {
   "hash": "ba8a2f979b76317ccf93e467e94d1dd25a4d448df8fe3a724a905e71adb08bc7"
  },
  "kernelspec": {
   "display_name": "Python 3.8.5 ('ds')",
   "language": "python",
   "name": "python3"
  },
  "language_info": {
   "codemirror_mode": {
    "name": "ipython",
    "version": 3
   },
   "file_extension": ".py",
   "mimetype": "text/x-python",
   "name": "python",
   "nbconvert_exporter": "python",
   "pygments_lexer": "ipython3",
   "version": "3.8.5"
  },
  "orig_nbformat": 4
 },
 "nbformat": 4,
 "nbformat_minor": 2
}
